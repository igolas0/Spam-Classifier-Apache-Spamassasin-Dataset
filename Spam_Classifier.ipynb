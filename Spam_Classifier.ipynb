{
 "cells": [
  {
   "cell_type": "markdown",
   "id": "3beb77aa",
   "metadata": {},
   "source": [
    "# Overview"
   ]
  },
  {
   "cell_type": "markdown",
   "id": "d952b0da",
   "metadata": {},
   "source": [
    "Within this notebook we will build a spam classifier. For this task we will use the Spam Assasin dataset. Below you can find an overview of the dataset:\n",
    "\n",
    "  - spam: 500 spam messages, all received from non-spam-trap sources.\n",
    "\n",
    "  - easy_ham: 2500 non-spam messages.  These are typically quite easy to\n",
    "    differentiate from spam, since they frequently do not contain any spammish\n",
    "    signatures (like HTML etc).\n",
    "\n",
    "  - hard_ham: 250 non-spam messages which are closer in many respects to\n",
    "    typical spam: use of HTML, unusual HTML markup, coloured text,\n",
    "    \"spammish-sounding\" phrases etc.\n",
    "\n",
    "  - easy_ham_2: 1400 non-spam messages.  A more recent addition to the set.\n",
    "\n",
    "  - spam_2: 1397 spam messages.  Again, more recent.\n",
    "\n",
    "Total count: 6047 messages, with about a 31% spam ratio.\n",
    "\n",
    "The corpora are prefixed with the date they were assembled.  They are\n",
    "compressed using \"bzip2\".  The messages are named by a message number and\n",
    "their MD5 checksum.\n"
   ]
  },
  {
   "cell_type": "markdown",
   "id": "71e638c8",
   "metadata": {},
   "source": [
    "# Downloading and Loading the Data"
   ]
  },
  {
   "cell_type": "code",
   "execution_count": null,
   "id": "d1893fa4",
   "metadata": {},
   "outputs": [],
   "source": [
    "from pathlib import Path\n",
    "import urllib.request\n",
    "import tarfile\n",
    "\n",
    "urls= [\"https://spamassassin.apache.org/old/publiccorpus/20030228_easy_ham.tar.bz2\",\n",
    "        \"https://spamassassin.apache.org/old/publiccorpus/20030228_easy_ham_2.tar.bz2\",\n",
    "        \"https://spamassassin.apache.org/old/publiccorpus/20030228_hard_ham.tar.bz2\",\n",
    "        \"https://spamassassin.apache.org/old/publiccorpus/20030228_spam.tar.bz2\",\n",
    "        \"https://spamassassin.apache.org/old/publiccorpus/20050311_spam_2.tar.bz2\"]\n",
    "\n",
    "Paths = [\"datasets/easy_ham.tar.bz2\", \"datasets/easy_ham_2.tar.bz2\", \"datasets/hard_ham.tar.bz2\",\n",
    "        \"datasets/spam.tar.bz2\", \"datasets/spam2.tar.bz2\"]\n",
    "\n",
    "\n",
    "for i in range(len(urls)):        \n",
    "        \n",
    "    tarball_path = Path(Paths[i])\n",
    "    if not tarball_path.is_file():\n",
    "        Path(\"datasets\").mkdir(parents=True, exist_ok=True)\n",
    "        url = urls[i]\n",
    "        urllib.request.urlretrieve(url, tarball_path)\n",
    "        with tarfile.open(tarball_path) as titanic_tarball:\n",
    "            titanic_tarball.extractall(path=\"datasets\")"
   ]
  },
  {
   "cell_type": "code",
   "execution_count": 1,
   "id": "9a80a306",
   "metadata": {
    "scrolled": true
   },
   "outputs": [],
   "source": [
    "import os\n",
    "import glob\n",
    "from bs4 import BeautifulSoup\n",
    "import re\n",
    "\n",
    "from sklearn.feature_extraction.text import CountVectorizer\n",
    "\n",
    "\n",
    "def read_file(file_path):\n",
    "    with open(file_path, \"r\", encoding=\"ISO-8859-1\") as file:\n",
    "        return file.read()\n",
    "\n",
    "def extract_email_body(file_content):\n",
    "    soup = BeautifulSoup(file_content, \"lxml\")\n",
    "    body = soup.body\n",
    "    if body is None:\n",
    "        return \" \".join(re.findall(r'\\b\\w+\\b', soup.text))\n",
    "    return \" \".join(re.findall(r'\\b\\w+\\b', body.text))\n",
    "\n",
    "def load_emails(path, label):\n",
    "    emails = []\n",
    "    file_paths = glob.glob(os.path.join(path, \"*\"))\n",
    "    for file_path in file_paths:\n",
    "        email_body = extract_email_body(read_file(file_path))\n",
    "        emails.append({\"email\": email_body, \"label\": label})\n",
    "    return emails"
   ]
  },
  {
   "cell_type": "code",
   "execution_count": 2,
   "id": "24157b65",
   "metadata": {},
   "outputs": [],
   "source": [
    "import pandas as pd\n",
    "\n",
    "# Load the email dataset\n",
    "spam_emails = load_emails(\"datasets/spam/\", 1)\n",
    "spam2_emails = load_emails(\"datasets/spam_2/\", 1)\n",
    "easy_ham_emails = load_emails(\"datasets/easy_ham/\", 0)\n",
    "easy_ham2_emails = load_emails(\"datasets/easy_ham_2/\", 0)\n",
    "hard_ham_emails = load_emails(\"datasets/hard_ham/\", 0)\n",
    "\n",
    "# Create a DataFrame\n",
    "data = pd.DataFrame(spam_emails + easy_ham_emails + hard_ham_emails \n",
    "                   + spam2_emails + easy_ham2_emails)\n",
    "X = data[\"email\"]\n",
    "y = data[\"label\"]"
   ]
  },
  {
   "cell_type": "markdown",
   "id": "2b34a136",
   "metadata": {},
   "source": [
    "# Explore the data"
   ]
  },
  {
   "cell_type": "markdown",
   "id": "3d9276ba",
   "metadata": {},
   "source": [
    "Take a look a spam e-mail sample:"
   ]
  },
  {
   "cell_type": "code",
   "execution_count": 13,
   "id": "988e751c",
   "metadata": {},
   "outputs": [
    {
     "name": "stdout",
     "output_type": "stream",
     "text": [
      "From fivestarpicks netzero com Sun Sep 22 14 13 11 2002 Return Path Delivered To zzzz localhost spamassassin taint org Received from localhost jalapeno 127 0 0 1 by zzzzason org Postfix with ESMTP id D0B7A16F03 for Sun 22 Sep 2002 14 13 10 0100 IST Received from jalapeno 127 0 0 1 by localhost with IMAP fetchmail 5 9 0 for zzzz localhost single drop Sun 22 Sep 2002 14 13 10 0100 IST Received from webnote net mail webnote net 193 120 211 219 by dogma slashnull org 8 11 6 8 11 6 with ESMTP id g8M2uMC17924 for Sun 22 Sep 2002 03 56 22 0100 Received from 210 126 63 68 217 167 180 65 by webnote net 8 9 3 8 9 3 with SMTP id DAA10727 for Sun 22 Sep 2002 03 56 47 0100 Message Id 200209220256 DAA10727 webnote net Received from 34 57 158 148 34 57 158 148 by rly xr02 mx aol com with local Sep 21 2002 9 36 31 PM 0400 Received from unknown HELO rly xw01 mx aol com 96 213 243 25 by n9 groups yahoo com with asmtp Sep 21 2002 8 46 25 PM 1200 Received from mx rootsystems net 60 127 54 24 by smtp server6 tampabay rr com with SMTP Sep 21 2002 7 31 16 PM 0200 From Sportspicks To ACCOUNT HOLDER webnote net Cc Subject YOUR ACCOUNT HAS BEEN CLOSED Sender Sportspicks MIME Version 1 0 Content Type text plain charset iso 8859 1 Date Sat 21 Sep 2002 21 57 46 0700 X Mailer Microsoft Outlook Express 5 50 4133 2400 X Priority 1 You have been removed from our list You will NOT be able to recieve todays picks in the email You will NOT be notified of any new sports pick websites IF YOU HAVE QUESTIONS ABOUT WHY YOUR ACCOUNT IS EXPIRED YOUR ACCOUNT WAS CLOSED FOR ONE OF THE FOLLOWING REASONS 1 YOU FAILED TO LOG INTO YOUR ACCCOUNT FOR OVER A MONTH 2 YOUR ACCOUNT WAS FOUND ON A SPAM LIST AND REJECTED 3 THE GIFT ACCOUNT SOMEONE SIGNED YOU UP FOR EXPIRED If you wish to rejoin please go to the following url http www freewebs com registar YOU DO NOT NEED TO DO ANYTHING TO BE REMOVED FROM THIS eMAIL LIST THIS IS A ONE TIME MAILING TO NOTIFY YOU THAT YOU ARE REMOVED However you may reply with the word remove in the subject line\n"
     ]
    }
   ],
   "source": [
    "print(X[1])"
   ]
  },
  {
   "cell_type": "markdown",
   "id": "694089f7",
   "metadata": {},
   "source": [
    "Explore a non-spam e-mail sample:"
   ]
  },
  {
   "cell_type": "code",
   "execution_count": 14,
   "id": "dbcc7c61",
   "metadata": {},
   "outputs": [
    {
     "name": "stdout",
     "output_type": "stream",
     "text": [
      "From ilug admin linux ie Wed Aug 28 10 47 36 2002 Return Path Delivered To zzzz localhost netnoteinc com Received from localhost localhost 127 0 0 1 by phobos labs netnoteinc com Postfix with ESMTP id 7309344157 for Wed 28 Aug 2002 05 47 20 0400 EDT Received from phobos 127 0 0 1 by localhost with IMAP fetchmail 5 9 0 for zzzz localhost single drop Wed 28 Aug 2002 10 47 20 0100 IST Received from lugh tuatha org root lugh tuatha org 194 125 145 45 by dogma slashnull org 8 11 6 8 11 6 with ESMTP id g7RISSZ20675 for Tue 27 Aug 2002 19 28 29 0100 Received from lugh root localhost 127 0 0 1 by lugh tuatha org 8 9 3 8 9 3 with ESMTP id TAA10007 Tue 27 Aug 2002 19 28 11 0100 X Authentication Warning lugh tuatha org Host root localhost 127 0 0 1 claimed to be lugh Received from fiachra ucd ie fiachra ucd ie 137 43 12 82 by lugh tuatha org 8 9 3 8 9 3 with ESMTP id TAA09972 for Tue 27 Aug 2002 19 28 03 0100 Received from gavin by fiachra ucd ie with local Exim 3 35 1 Debian id 17jl3C 0000Rs 00 for Tue 27 Aug 2002 19 26 50 0100 Date Tue 27 Aug 2002 19 26 50 0100 From Gavin McCullagh To ilug linux ie Subject Re ILUG Got me a crappy laptop Message Id 20020827182650 GC23883 fiachra ucd ie Reply To Irish Linux Users Group Mail Followup To ilug linux ie References MIME Version 1 0 Content Type text plain charset us ascii Content Disposition inline In Reply To User Agent Mutt 1 3 28i X Gnupg Publickey http fiachra ucd ie gavin public gpg X Operating System Linux 2 4 18 i686 Sender ilug admin linux ie Errors To ilug admin linux ie X Mailman Version 1 1 Precedence bulk List Id Irish Linux Users Group X Beenthere ilug linux ie On Tue 27 Aug 2002 Jon wrote I has just been given an old Toshiba CS100 with earliest pentium and 400mb of HD but only a floppy drive on it its got Win3 1 which is funny to see again but gonna be cleared as soon as i stop messing with it What I was wondering was could anyone advise what O S would be good for this I want a small usable nix distro for it that i can transfer to it fom floppy Connecting this to Winblows i know that winblows allows pier to pier connections over serial and parellel ports to other winblows but is this easy do for connecting winblows to nix Have done exactly this with debian only I used a PCMCIA network card and did it off ftp esat net ucd bandwidth is rather good However if you ve another machine look into this null modem cable jobby http rosebud sps queensu ca edd t100cs html whether you can connect that to direct cable connectionI ve no idea You could however put the files onto windows boot onto a ILUG BBC tm and mount the fat32 partition Easier Quicker way is to get your hands on a PCMCIA nic Also makes the maptop far more useful in the long run Gavin Irish Linux Users Group ilug linux ie http www linux ie mailman listinfo ilug for un subscription information List maintainer listmaster linux ie\n"
     ]
    }
   ],
   "source": [
    "print(X[1001])"
   ]
  },
  {
   "cell_type": "markdown",
   "id": "bd293673",
   "metadata": {},
   "source": [
    "Explore a hard non-spam sample which might look more like spam:"
   ]
  },
  {
   "cell_type": "code",
   "execution_count": 21,
   "id": "1e0d2fa1",
   "metadata": {},
   "outputs": [
    {
     "name": "stdout",
     "output_type": "stream",
     "text": [
      "Return Path Received from abv sfo acmta2 cnet com abv sfo1 acmta2 cnet com 206 16 1 161 by dogma slashnull org 8 11 6 8 11 6 with ESMTP id g6AKHYJ02058 for Wed 10 Jul 2002 21 17 34 0100 Received from abv sfo1 ac agent4 206 16 0 226 by abv sfo acmta2 cnet com PowerMTA TM v1 5 Wed 10 Jul 2002 16 19 34 0700 envelope from Message ID 1219134 1026332248132 JavaMail root abv sfo1 ac agent4 Date Wed 10 Jul 2002 13 17 28 0700 PDT From CNET Shopper Electronics Edition To qqqqqqqqqq cnet newsletters spamassassin taint org Subject Looking for the perfect camera for your summer vacation CNET SHOPPER Mime Version 1 0 Content Type text html charset ISO 8859 1 Content Transfer Encoding 7bit X Mailer Accucast http www accucast com X Mailer Version 2 8 4 2 CNET Shopper Newsletter Electronics Edition Shopper All CNET The Web 1 Sony Cyber Shot DSC F707 2 Canon PowerShot S40 3 Palm m515 4 Palm i705 5 Nikon Coolpix 995 All most popular Live tech help NOW April s tech award 1 million open jobs News com Top CIOs ZDNet PeopleSoft Canon PowerShot S330 Elph 2 000 000 pixels 2 5 x digital zoom 3 x optical zoom Built in flash Just 338 Accessorize your camera Canon CB 2LS Battery Charger Canon ACK 500 Power Adapter Kit Canon 48 MB CompactFlash Card Canon 64 MB CompactFlash Card Fujifilm FinePix 30i 1 920 000 pixels 5 3 oz Built in flash Lowest Price 245 Minolta Dimage X Free shipping available 2 1 megapixels 1 5 in LCD 3 x optical zoom 2 x digital Starting at 282 Olympus Camedia D 40 Zoom 4 0 megapixel 1 8 in LCD monitor 2 8x optical 2 5x digital zoom Incl 16MB SmartMedia card Lowest Price 447 Canon PowerShot A40 2 megapixels new shooting modes 2 5x optical 3x digital zoom Professional level features Lowest Price 268 Casio GV 10 1 200 000 pixels Built in flash 1 6 in LCD display Lowest Price 310 Kyocera Finecam S4 3 870 000 pixels 2 5 x digital zoom 3 x optical zoom Lowest Price 524 Did you know that ChannelOnline enables you to streamline your sales process by building quotes and orders online Simply select a customer you ve previously entered into ChannelOnline s database and their company information and a customized price profile is automatically applied to their quote You can add products as you search the product database and work on multiple quotes at once as you respond to different customer requests throughout the day Sign up now to streamline your entire buying and selling chain Tell me more about ChannelOnline Tech Trends Hardware Software Shopping Downloads News Investing Electronics Web Building Help How Tos Internet Games Message Boards CNET TV Radio Music Center The e mail address for your subscription is qqqqqqqqqq cnet newsletters spamassassin taint org Unsubscribe Manage My Subscriptions FAQ Advertise Price comparisons Product reviews Tech news Downloads All CNET services Copyright 2002 CNET Networks Inc All rights reserved\n"
     ]
    }
   ],
   "source": [
    "print(X[3101])"
   ]
  },
  {
   "cell_type": "markdown",
   "id": "1efb9f50",
   "metadata": {},
   "source": [
    "After taking a look at the samples we will be vectorizing the e-mails with a TfidfVectorizer in order to tokenize the feature inputs."
   ]
  },
  {
   "cell_type": "markdown",
   "id": "eb59d99d",
   "metadata": {},
   "source": [
    "### Create a test set "
   ]
  },
  {
   "cell_type": "code",
   "execution_count": 4,
   "id": "ab3da14f",
   "metadata": {},
   "outputs": [],
   "source": [
    "from sklearn.model_selection import train_test_split\n",
    "\n",
    "# Split the dataset into training and testing sets\n",
    "X_train, X_test, y_train, y_test = train_test_split(X, y, test_size=0.2, random_state=42)"
   ]
  },
  {
   "cell_type": "markdown",
   "id": "54323e15",
   "metadata": {},
   "source": [
    "# Prepare Data "
   ]
  },
  {
   "cell_type": "code",
   "execution_count": 22,
   "id": "5328fc4e",
   "metadata": {},
   "outputs": [],
   "source": [
    "from sklearn.pipeline import Pipeline\n",
    "from sklearn.feature_extraction.text import TfidfVectorizer\n",
    "from sklearn.svm import SVC\n",
    "\n",
    "# Vectorize the email data and use a Support Vector Machine (SVM) classifier\n",
    "svc_pipeline = Pipeline([\n",
    "    ('tfidf', TfidfVectorizer(stop_words=\"english\")),\n",
    "    ('classifier', SVC())\n",
    "])\n",
    "\n"
   ]
  },
  {
   "cell_type": "markdown",
   "id": "b7c279eb",
   "metadata": {},
   "source": [
    "# Train and Fine-Tune the Model"
   ]
  },
  {
   "cell_type": "code",
   "execution_count": 24,
   "id": "19868872",
   "metadata": {},
   "outputs": [
    {
     "name": "stdout",
     "output_type": "stream",
     "text": [
      "Best parameters found by grid search: {'classifier__C': 10, 'classifier__kernel': 'linear', 'tfidf__ngram_range': (1, 2)}\n"
     ]
    }
   ],
   "source": [
    "from sklearn.model_selection import GridSearchCV\n",
    "\n",
    "# Use Grid Search to find the best hyperparameters for the SVM\n",
    "param_grid = {\n",
    "    'tfidf__ngram_range': [(1, 1), (1, 2)],\n",
    "    'classifier__C': [0.1, 1, 10],\n",
    "    'classifier__kernel': ['linear', 'rbf']\n",
    "}\n",
    "\n",
    "grid_search = GridSearchCV(svc_pipeline, param_grid, cv=5, n_jobs=-1)\n",
    "grid_search.fit(X_train, y_train)\n",
    "\n",
    "print(\"Best parameters found by grid search:\", grid_search.best_params_)"
   ]
  },
  {
   "cell_type": "code",
   "execution_count": 25,
   "id": "3c1327e7",
   "metadata": {},
   "outputs": [
    {
     "name": "stdout",
     "output_type": "stream",
     "text": [
      "Accuracy: 0.9966969446738233\n",
      "\n",
      "Confusion Matrix:\n",
      " [[840   2]\n",
      " [  2 367]]\n",
      "\n",
      "Classification Report:\n",
      "               precision    recall  f1-score   support\n",
      "\n",
      "           0       1.00      1.00      1.00       842\n",
      "           1       0.99      0.99      0.99       369\n",
      "\n",
      "    accuracy                           1.00      1211\n",
      "   macro avg       1.00      1.00      1.00      1211\n",
      "weighted avg       1.00      1.00      1.00      1211\n",
      "\n"
     ]
    }
   ],
   "source": [
    "from sklearn.metrics import accuracy_score, confusion_matrix, classification_report\n",
    "\n",
    "\n",
    "# Test the classifier\n",
    "y_pred = grid_search.best_estimator_.predict(X_test)\n",
    "\n",
    "# Evaluate the classifier\n",
    "print(\"Accuracy:\", accuracy_score(y_test, y_pred))\n",
    "print(\"\\nConfusion Matrix:\\n\", confusion_matrix(y_test, y_pred))\n",
    "print(\"\\nClassification Report:\\n\", classification_report(y_test, y_pred))"
   ]
  },
  {
   "cell_type": "markdown",
   "id": "eba893d2",
   "metadata": {},
   "source": [
    "We get great results with the SVC Classifier. Just 4 samples are misclassified, namely two non-spam e-mails get classified as spam and 2 spam e-mails get misclassified as non-spam, but the vast majority is detected correctly."
   ]
  }
 ],
 "metadata": {
  "kernelspec": {
   "display_name": "Python 3 (ipykernel)",
   "language": "python",
   "name": "python3"
  },
  "language_info": {
   "codemirror_mode": {
    "name": "ipython",
    "version": 3
   },
   "file_extension": ".py",
   "mimetype": "text/x-python",
   "name": "python",
   "nbconvert_exporter": "python",
   "pygments_lexer": "ipython3",
   "version": "3.10.8"
  }
 },
 "nbformat": 4,
 "nbformat_minor": 5
}
